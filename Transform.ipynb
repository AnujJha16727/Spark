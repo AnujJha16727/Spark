{
 "cells": [
  {
   "cell_type": "code",
   "execution_count": 0,
   "metadata": {
    "application/vnd.databricks.v1+cell": {
     "cellMetadata": {
      "byteLimit": 2048000,
      "rowLimit": 10000
     },
     "inputWidgets": {},
     "nuid": "318d1ad9-8a86-40ba-ba68-4fb67cfa1c5e",
     "showTitle": false,
     "tableResultSettingsMap": {},
     "title": ""
    }
   },
   "outputs": [
    {
     "output_type": "stream",
     "name": "stdout",
     "output_type": "stream",
     "text": [
      "+---+------+------+------+\n| id|  name|gender|salary|\n+---+------+------+------+\n|  1| Saket|  male|  2000|\n|  2|  Anuj|  male|  3000|\n|  3|Anjali|female|  3000|\n|  4|   Anu|female|  2000|\n+---+------+------+------+\n\n"
     ]
    }
   ],
   "source": [
    "data = [\n",
    "    (1, 'Saket', 'male', 2000),\n",
    "    (2, 'Anuj', 'male', 3000),\n",
    "    (3, 'Anjali', 'female', 3000),  \n",
    "    (4, 'Anu', 'female', 2000)\n",
    "]\n",
    "\n",
    "schema = ['id', 'name', 'gender', 'salary']\n",
    "\n",
    "df = spark.createDataFrame(data, schema)\n",
    "df.show()"
   ]
  },
  {
   "cell_type": "code",
   "execution_count": 0,
   "metadata": {
    "application/vnd.databricks.v1+cell": {
     "cellMetadata": {
      "byteLimit": 2048000,
      "rowLimit": 10000
     },
     "inputWidgets": {},
     "nuid": "700bd861-b4d6-4c5a-8729-be48d21092d9",
     "showTitle": false,
     "tableResultSettingsMap": {},
     "title": ""
    }
   },
   "outputs": [],
   "source": [
    "from pyspark.sql.functions import upper\n",
    "def convertNameToUpper(df):\n",
    "    return df.withColumn('name',upper(df.name))"
   ]
  },
  {
   "cell_type": "code",
   "execution_count": 0,
   "metadata": {
    "application/vnd.databricks.v1+cell": {
     "cellMetadata": {
      "byteLimit": 2048000,
      "rowLimit": 10000
     },
     "inputWidgets": {},
     "nuid": "4032f356-6535-4551-bb60-7848ecacf366",
     "showTitle": false,
     "tableResultSettingsMap": {},
     "title": ""
    }
   },
   "outputs": [
    {
     "output_type": "stream",
     "name": "stdout",
     "output_type": "stream",
     "text": [
      "+---+------+------+------+\n| id|  name|gender|salary|\n+---+------+------+------+\n|  1| SAKET|  male|  2000|\n|  2|  ANUJ|  male|  3000|\n|  3|ANJALI|female|  3000|\n|  4|   ANU|female|  2000|\n+---+------+------+------+\n\n"
     ]
    }
   ],
   "source": [
    "df1 =df.transform(convertNameToUpper)\n",
    "df1.show()"
   ]
  },
  {
   "cell_type": "code",
   "execution_count": 0,
   "metadata": {
    "application/vnd.databricks.v1+cell": {
     "cellMetadata": {
      "byteLimit": 2048000,
      "rowLimit": 10000
     },
     "inputWidgets": {},
     "nuid": "6c9ebf2b-54c5-4c1d-8967-eab15a8832e5",
     "showTitle": false,
     "tableResultSettingsMap": {},
     "title": ""
    }
   },
   "outputs": [],
   "source": [
    "def doubleTheSalary(df):\n",
    "    return df.withColumn('salary',df.salary *2)"
   ]
  },
  {
   "cell_type": "code",
   "execution_count": 0,
   "metadata": {
    "application/vnd.databricks.v1+cell": {
     "cellMetadata": {
      "byteLimit": 2048000,
      "rowLimit": 10000
     },
     "inputWidgets": {},
     "nuid": "00362f2a-b9dd-45b2-aacf-1864614146d5",
     "showTitle": false,
     "tableResultSettingsMap": {},
     "title": ""
    }
   },
   "outputs": [
    {
     "output_type": "stream",
     "name": "stdout",
     "output_type": "stream",
     "text": [
      "+---+------+------+------+\n| id|  name|gender|salary|\n+---+------+------+------+\n|  1| Saket|  male|  4000|\n|  2|  Anuj|  male|  6000|\n|  3|Anjali|female|  6000|\n|  4|   Anu|female|  4000|\n+---+------+------+------+\n\n"
     ]
    }
   ],
   "source": [
    "df2=df.transform(doubleTheSalary)\n",
    "df2.show()"
   ]
  },
  {
   "cell_type": "code",
   "execution_count": 0,
   "metadata": {
    "application/vnd.databricks.v1+cell": {
     "cellMetadata": {
      "byteLimit": 2048000,
      "rowLimit": 10000
     },
     "inputWidgets": {},
     "nuid": "6c98e3b1-5300-4583-95bf-d8e8d3383e55",
     "showTitle": false,
     "tableResultSettingsMap": {},
     "title": ""
    }
   },
   "outputs": [
    {
     "output_type": "stream",
     "name": "stdout",
     "output_type": "stream",
     "text": [
      "+---+-----+---------------+\n| id| name|         skills|\n+---+-----+---------------+\n|  1|Saket|[python, spark]|\n|  2| Anuj|     [aws, sql]|\n+---+-----+---------------+\n\n"
     ]
    }
   ],
   "source": [
    "#pyspark.sql.functions.transform () used to apply transformation on column of typeArray.and returns object of arrayType\n",
    "\n",
    "data1 = [(1,'Saket',['python','spark']),(2,'Anuj',['aws','sql'])]\n",
    "schema1=['id','name','skills']\n",
    "\n",
    "df3=spark.createDataFrame(data1,schema1)\n",
    "df3.show()"
   ]
  },
  {
   "cell_type": "code",
   "execution_count": 0,
   "metadata": {
    "application/vnd.databricks.v1+cell": {
     "cellMetadata": {
      "byteLimit": 2048000,
      "rowLimit": 10000
     },
     "inputWidgets": {},
     "nuid": "29e06157-62e5-4136-82d5-1f67f5ba82b9",
     "showTitle": false,
     "tableResultSettingsMap": {},
     "title": ""
    }
   },
   "outputs": [
    {
     "output_type": "stream",
     "name": "stdout",
     "output_type": "stream",
     "text": [
      "+---+-----+---------------+\n| id| name|         skills|\n+---+-----+---------------+\n|  1|Saket|[PYTHON, SPARK]|\n|  2| Anuj|     [AWS, SQL]|\n+---+-----+---------------+\n\n"
     ]
    }
   ],
   "source": [
    "from pyspark.sql.functions import transform , upper\n",
    "df3.select('id','name',transform('skills', lambda x: upper(x)).alias('skills')).show()"
   ]
  },
  {
   "cell_type": "code",
   "execution_count": 0,
   "metadata": {
    "application/vnd.databricks.v1+cell": {
     "cellMetadata": {
      "byteLimit": 2048000,
      "rowLimit": 10000
     },
     "inputWidgets": {},
     "nuid": "95b75007-6c0c-4df9-822c-1553650dd77d",
     "showTitle": false,
     "tableResultSettingsMap": {},
     "title": ""
    }
   },
   "outputs": [],
   "source": [
    "def ConvertArrayToUpper(x):\n",
    "    return upper(x)"
   ]
  },
  {
   "cell_type": "code",
   "execution_count": 0,
   "metadata": {
    "application/vnd.databricks.v1+cell": {
     "cellMetadata": {
      "byteLimit": 2048000,
      "rowLimit": 10000
     },
     "inputWidgets": {},
     "nuid": "4fa35059-ff0b-4715-a7df-ece225887f42",
     "showTitle": false,
     "tableResultSettingsMap": {},
     "title": ""
    }
   },
   "outputs": [
    {
     "output_type": "stream",
     "name": "stdout",
     "output_type": "stream",
     "text": [
      "+---+-----+---------------+\n| id| name|         Skills|\n+---+-----+---------------+\n|  1|Saket|[PYTHON, SPARK]|\n|  2| Anuj|     [AWS, SQL]|\n+---+-----+---------------+\n\n"
     ]
    }
   ],
   "source": [
    "df3.select('id','name',transform ('skills',ConvertArrayToUpper).alias('Skills')).show()"
   ]
  },
  {
   "cell_type": "code",
   "execution_count": 0,
   "metadata": {
    "application/vnd.databricks.v1+cell": {
     "cellMetadata": {},
     "inputWidgets": {},
     "nuid": "be2f7429-d05c-4b0b-b07f-a3449afb40fa",
     "showTitle": false,
     "tableResultSettingsMap": {},
     "title": ""
    }
   },
   "outputs": [],
   "source": []
  }
 ],
 "metadata": {
  "application/vnd.databricks.v1+notebook": {
   "computePreferences": null,
   "dashboards": [],
   "environmentMetadata": {
    "base_environment": "",
    "client": "1"
   },
   "language": "python",
   "notebookMetadata": {
    "pythonIndentUnit": 4
   },
   "notebookName": "Transform",
   "widgets": {}
  }
 },
 "nbformat": 4,
 "nbformat_minor": 0
}
