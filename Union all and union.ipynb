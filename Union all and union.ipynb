{
 "cells": [
  {
   "cell_type": "code",
   "execution_count": 0,
   "metadata": {
    "application/vnd.databricks.v1+cell": {
     "cellMetadata": {
      "byteLimit": 2048000,
      "rowLimit": 10000
     },
     "inputWidgets": {},
     "nuid": "f18f320a-8cb4-4544-95e5-09277950a167",
     "showTitle": false,
     "tableResultSettingsMap": {},
     "title": ""
    }
   },
   "outputs": [
    {
     "output_type": "stream",
     "name": "stdout",
     "output_type": "stream",
     "text": [
      "+---+-----+------+\n| id| name|gender|\n+---+-----+------+\n|  1|Saket|  male|\n|  2| Anuj|  male|\n+---+-----+------+\n\n+---+----+------+\n| id|name|gender|\n+---+----+------+\n|  3|Anuj|  male|\n|  4| Anu|female|\n+---+----+------+\n\n+---+-----+------+\n| id| name|gender|\n+---+-----+------+\n|  1|Saket|  male|\n|  2| Anuj|  male|\n|  3| Anuj|  male|\n|  4|  Anu|female|\n+---+-----+------+\n\n"
     ]
    }
   ],
   "source": [
    "data = [\n",
    "    (1, 'Saket', 'male'),\n",
    "    (2, 'Anuj', 'male')\n",
    "]\n",
    "schema = ['id', 'name', 'gender']\n",
    "data2= [\n",
    "    (3, 'Anuj', 'male'),  \n",
    "    (4, 'Anu', 'female')\n",
    "]\n",
    "schema2 = ['id', 'name', 'gender']\n",
    "df1 = spark.createDataFrame(data, schema)\n",
    "df1.show()\n",
    "df2= spark.createDataFrame(data2, schema2)\n",
    "df2.show()\n",
    "new_df=df1.union(df2).show()"
   ]
  },
  {
   "cell_type": "code",
   "execution_count": 0,
   "metadata": {
    "application/vnd.databricks.v1+cell": {
     "cellMetadata": {
      "byteLimit": 2048000,
      "rowLimit": 10000
     },
     "inputWidgets": {},
     "nuid": "a5800a1f-4ad9-465e-a185-5dff8e0a4aef",
     "showTitle": false,
     "tableResultSettingsMap": {},
     "title": ""
    }
   },
   "outputs": [
    {
     "output_type": "stream",
     "name": "stdout",
     "output_type": "stream",
     "text": [
      "+---+------+\n| id|  name|\n+---+------+\n|  1|  Anuj|\n|  2| Saket|\n|  2|Ankita|\n|  3|   Anu|\n+---+------+\n\n"
     ]
    }
   ],
   "source": [
    "\n",
    "from pyspark.sql.types import StructType, StructField, IntegerType, StringType\n",
    "\n",
    "\n",
    "data1 = [(1, \"Anuj\"), (2, \"Saket\")]\n",
    "data2 = [(2, \"Ankita\"), (3, \"Anu\"),(1, \"Anuj\")]\n",
    "\n",
    "schema = StructType([\n",
    "    StructField(\"id\", IntegerType(), True),\n",
    "    StructField(\"name\", StringType(), True)\n",
    "])\n",
    "\n",
    "df1 = spark.createDataFrame(data1, schema)\n",
    "df2 = spark.createDataFrame(data2, schema)\n",
    "\n",
    "union_df = df1.union(df2).distinct()#remove duplicate\n",
    "\n",
    "union_df.show()\n"
   ]
  },
  {
   "cell_type": "code",
   "execution_count": 0,
   "metadata": {
    "application/vnd.databricks.v1+cell": {
     "cellMetadata": {},
     "inputWidgets": {},
     "nuid": "77c48756-2546-4f7b-9c50-9b8f197b2ae8",
     "showTitle": false,
     "tableResultSettingsMap": {},
     "title": ""
    }
   },
   "outputs": [],
   "source": []
  }
 ],
 "metadata": {
  "application/vnd.databricks.v1+notebook": {
   "computePreferences": null,
   "dashboards": [],
   "environmentMetadata": {
    "base_environment": "",
    "client": "1"
   },
   "language": "python",
   "notebookMetadata": {
    "pythonIndentUnit": 4
   },
   "notebookName": "Union all and union",
   "widgets": {}
  }
 },
 "nbformat": 4,
 "nbformat_minor": 0
}
