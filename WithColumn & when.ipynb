{
 "cells": [
  {
   "cell_type": "code",
   "execution_count": 0,
   "metadata": {
    "application/vnd.databricks.v1+cell": {
     "cellMetadata": {
      "byteLimit": 2048000,
      "rowLimit": 10000
     },
     "inputWidgets": {},
     "nuid": "056f46e0-d27e-4477-a95a-6ce6c4efe2f6",
     "showTitle": false,
     "tableResultSettingsMap": {},
     "title": ""
    }
   },
   "outputs": [
    {
     "output_type": "stream",
     "name": "stdout",
     "output_type": "stream",
     "text": [
      "+------+------+-----+\n|  name|salary|bonus|\n+------+------+-----+\n|   Ram|  3000|300.0|\n|  Sham|  4000|400.0|\n|Balram|  5000|500.0|\n+------+------+-----+\n\n"
     ]
    }
   ],
   "source": [
    "from pyspark.sql.functions import col\n",
    "\n",
    "data = [(\"Ram\",3000), (\"Sham\", 4000), (\"Balram\", 5000)]\n",
    "columns = [\"name\", \"salary\"]\n",
    "df = spark.createDataFrame(data, columns)\n",
    "\n",
    "df = df.withColumn(\"bonus\", col(\"salary\") * 0.10)\n",
    "\n",
    "df.show()\n"
   ]
  },
  {
   "cell_type": "code",
   "execution_count": 0,
   "metadata": {
    "application/vnd.databricks.v1+cell": {
     "cellMetadata": {
      "byteLimit": 2048000,
      "rowLimit": 10000
     },
     "inputWidgets": {},
     "nuid": "c7c99a4c-03aa-431c-a2e5-28955564b6a1",
     "showTitle": false,
     "tableResultSettingsMap": {},
     "title": ""
    }
   },
   "outputs": [
    {
     "output_type": "stream",
     "name": "stdout",
     "output_type": "stream",
     "text": [
      "+------+------+-----+\n|  name|salary|bonus|\n+------+------+-----+\n|   Ram|240000|300.0|\n|  Sham|320000|400.0|\n|Balram|400000|500.0|\n+------+------+-----+\n\n"
     ]
    }
   ],
   "source": [
    "df = df.withColumn(\"salary\", col(\"salary\") * 80) # modifying col \n",
    "df.show()\n"
   ]
  },
  {
   "cell_type": "code",
   "execution_count": 0,
   "metadata": {
    "application/vnd.databricks.v1+cell": {
     "cellMetadata": {
      "byteLimit": 2048000,
      "rowLimit": 10000
     },
     "inputWidgets": {},
     "nuid": "e290ebf3-c9f2-41b1-bfd7-c5e1b9287a6b",
     "showTitle": false,
     "tableResultSettingsMap": {},
     "title": ""
    }
   },
   "outputs": [
    {
     "output_type": "stream",
     "name": "stdout",
     "output_type": "stream",
     "text": [
      "root\n |-- name: string (nullable = true)\n |-- salary: double (nullable = true)\n |-- bonus: double (nullable = true)\n\n"
     ]
    }
   ],
   "source": [
    "from pyspark.sql.types import *\n",
    "\n",
    "df = df.withColumn(\"salary\", col(\"salary\").cast(DoubleType()))\n",
    "df.printSchema()\n"
   ]
  },
  {
   "cell_type": "code",
   "execution_count": 0,
   "metadata": {
    "application/vnd.databricks.v1+cell": {
     "cellMetadata": {
      "byteLimit": 2048000,
      "rowLimit": 10000
     },
     "inputWidgets": {},
     "nuid": "03cf188e-2f93-4cbc-8786-14fce376e814",
     "showTitle": false,
     "tableResultSettingsMap": {},
     "title": ""
    }
   },
   "outputs": [
    {
     "output_type": "stream",
     "name": "stdout",
     "output_type": "stream",
     "text": [
      "+------+--------+-----+----------------------+\n|name  |salary  |bonus|details               |\n+------+--------+-----+----------------------+\n|Ram   |240000.0|300.0|Ram earns ₹240000.0   |\n|Sham  |320000.0|400.0|Sham earns ₹320000.0  |\n|Balram|400000.0|500.0|Balram earns ₹400000.0|\n+------+--------+-----+----------------------+\n\n"
     ]
    }
   ],
   "source": [
    "df = df.withColumn(\"details\", concat(col(\"name\"), lit(\" earns ₹\"), col(\"salary\")))\n",
    "df.show(truncate=False)  "
   ]
  },
  {
   "cell_type": "code",
   "execution_count": 0,
   "metadata": {
    "application/vnd.databricks.v1+cell": {
     "cellMetadata": {
      "byteLimit": 2048000,
      "rowLimit": 10000
     },
     "inputWidgets": {},
     "nuid": "8088ba3d-ac4c-4089-a60c-97084f44512e",
     "showTitle": false,
     "tableResultSettingsMap": {},
     "title": ""
    }
   },
   "outputs": [
    {
     "output_type": "stream",
     "name": "stdout",
     "output_type": "stream",
     "text": [
      "+------+--------+-----+--------------------+--------+\n|  name|  salary|bonus|             details|category|\n+------+--------+-----+--------------------+--------+\n|   Ram|240000.0|300.0| Ram earns ₹240000.0|    High|\n|  Sham|320000.0|400.0|Sham earns ₹320000.0|    High|\n|Balram|400000.0|500.0|Balram earns ₹400...|    High|\n+------+--------+-----+--------------------+--------+\n\n"
     ]
    }
   ],
   "source": [
    "from pyspark.sql.functions import *\n",
    "\n",
    "df = df.withColumn(\"category\",\n",
    "                   when(col(\"salary\") > 4000, \"High\")\n",
    "                   .otherwise(\"Low\"))\n",
    "df.show()"
   ]
  },
  {
   "cell_type": "code",
   "execution_count": 0,
   "metadata": {
    "application/vnd.databricks.v1+cell": {
     "cellMetadata": {
      "byteLimit": 2048000,
      "rowLimit": 10000
     },
     "inputWidgets": {},
     "nuid": "42512840-3ac2-4ced-9a2a-1f18e34f363c",
     "showTitle": false,
     "tableResultSettingsMap": {},
     "title": ""
    }
   },
   "outputs": [
    {
     "output_type": "stream",
     "name": "stdout",
     "output_type": "stream",
     "text": [
      "+-------------+\n|employee_name|\n+-------------+\n|          Ram|\n|         Sham|\n|       Balram|\n+-------------+\n\n"
     ]
    }
   ],
   "source": [
    "df.select(col(\"name\").alias(\"employee_name\")).show()\n"
   ]
  },
  {
   "cell_type": "code",
   "execution_count": 0,
   "metadata": {
    "application/vnd.databricks.v1+cell": {
     "cellMetadata": {
      "byteLimit": 2048000,
      "rowLimit": 10000
     },
     "inputWidgets": {},
     "nuid": "dbab3404-c6d1-40ac-8d9d-0cf6bc9b9bb0",
     "showTitle": false,
     "tableResultSettingsMap": {},
     "title": ""
    }
   },
   "outputs": [
    {
     "output_type": "stream",
     "name": "stdout",
     "output_type": "stream",
     "text": [
      "Out[22]: DataFrame[name: string, salary: double, bonus: double, details: string, category: string]"
     ]
    }
   ],
   "source": [
    "df.where(col(\"salary\") > 24000.0)\n"
   ]
  },
  {
   "cell_type": "code",
   "execution_count": 0,
   "metadata": {
    "application/vnd.databricks.v1+cell": {
     "cellMetadata": {},
     "inputWidgets": {},
     "nuid": "4aeb50f2-980e-4726-8d67-2c15b034eb09",
     "showTitle": false,
     "tableResultSettingsMap": {},
     "title": ""
    }
   },
   "outputs": [],
   "source": []
  }
 ],
 "metadata": {
  "application/vnd.databricks.v1+notebook": {
   "computePreferences": null,
   "dashboards": [],
   "environmentMetadata": {
    "base_environment": "",
    "environment_version": "1"
   },
   "inputWidgetPreferences": null,
   "language": "python",
   "notebookMetadata": {
    "pythonIndentUnit": 4
   },
   "notebookName": "WithColumn & when",
   "widgets": {}
  }
 },
 "nbformat": 4,
 "nbformat_minor": 0
}
