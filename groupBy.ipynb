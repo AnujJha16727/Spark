{
 "cells": [
  {
   "cell_type": "code",
   "execution_count": 0,
   "metadata": {
    "application/vnd.databricks.v1+cell": {
     "cellMetadata": {
      "byteLimit": 2048000,
      "rowLimit": 10000
     },
     "inputWidgets": {},
     "nuid": "f18f320a-8cb4-4544-95e5-09277950a167",
     "showTitle": false,
     "tableResultSettingsMap": {},
     "title": ""
    }
   },
   "outputs": [
    {
     "output_type": "stream",
     "name": "stdout",
     "output_type": "stream",
     "text": [
      "+---+-----+------+------+----+\n| id| name|gender|salary|dept|\n+---+-----+------+------+----+\n|  1|Saket|  male|  2000|  IT|\n|  2|Anuja|female|  4000|  IT|\n|  3| Anuj|  male|  3000|  HR|\n|  4|  Anu|female|  2000| OPS|\n+---+-----+------+------+----+\n\n"
     ]
    }
   ],
   "source": [
    "data = [\n",
    "    (1, 'Saket', 'male', 2000,'IT'),\n",
    "    (2, 'Anuja', 'female', 4000,'IT'),\n",
    "    (3, 'Anuj', 'male', 3000,'HR'),  \n",
    "    (4, 'Anu', 'female', 2000,'OPS')\n",
    "]\n",
    "\n",
    "\n",
    "schema = ['id', 'name', 'gender', 'salary','dept']\n",
    "\n",
    "\n",
    "df = spark.createDataFrame(data, schema)\n",
    "\n",
    "\n",
    "df.show()"
   ]
  },
  {
   "cell_type": "code",
   "execution_count": 0,
   "metadata": {
    "application/vnd.databricks.v1+cell": {
     "cellMetadata": {
      "byteLimit": 2048000,
      "rowLimit": 10000
     },
     "inputWidgets": {},
     "nuid": "77c48756-2546-4f7b-9c50-9b8f197b2ae8",
     "showTitle": false,
     "tableResultSettingsMap": {},
     "title": ""
    }
   },
   "outputs": [
    {
     "output_type": "stream",
     "name": "stdout",
     "output_type": "stream",
     "text": [
      "+----+-----+\n|dept|count|\n+----+-----+\n|  IT|    2|\n|  HR|    1|\n| OPS|    1|\n+----+-----+\n\n"
     ]
    }
   ],
   "source": [
    "df_grouped = df.groupBy(\"dept\").count()\n",
    "df_grouped.show()\n"
   ]
  },
  {
   "cell_type": "code",
   "execution_count": 0,
   "metadata": {
    "application/vnd.databricks.v1+cell": {
     "cellMetadata": {
      "byteLimit": 2048000,
      "rowLimit": 10000
     },
     "inputWidgets": {},
     "nuid": "3879945c-35ee-4e45-8e8b-b2f62398d4d6",
     "showTitle": false,
     "tableResultSettingsMap": {},
     "title": ""
    }
   },
   "outputs": [
    {
     "output_type": "stream",
     "name": "stdout",
     "output_type": "stream",
     "text": [
      "+----+-----------+\n|dept|max(salary)|\n+----+-----------+\n|  IT|       4000|\n|  HR|       3000|\n| OPS|       2000|\n+----+-----------+\n\n"
     ]
    }
   ],
   "source": [
    "df_grouped = df.groupBy(\"dept\").max('salary')\n",
    "df_grouped.show()\n"
   ]
  },
  {
   "cell_type": "code",
   "execution_count": 0,
   "metadata": {
    "application/vnd.databricks.v1+cell": {
     "cellMetadata": {
      "byteLimit": 2048000,
      "rowLimit": 10000
     },
     "inputWidgets": {},
     "nuid": "f6276d96-bd31-46b5-b984-a506e5090bec",
     "showTitle": false,
     "tableResultSettingsMap": {},
     "title": ""
    }
   },
   "outputs": [
    {
     "output_type": "stream",
     "name": "stdout",
     "output_type": "stream",
     "text": [
      "+----+------+-----+\n|dept|gender|count|\n+----+------+-----+\n|  IT|  male|    1|\n|  IT|female|    1|\n|  HR|  male|    1|\n| OPS|female|    1|\n+----+------+-----+\n\n"
     ]
    }
   ],
   "source": [
    "df_grouped = df.groupBy(\"dept\",'gender').count()\n",
    "df_grouped.show()\n"
   ]
  },
  {
   "cell_type": "code",
   "execution_count": 0,
   "metadata": {
    "application/vnd.databricks.v1+cell": {
     "cellMetadata": {
      "byteLimit": 2048000,
      "rowLimit": 10000
     },
     "inputWidgets": {},
     "nuid": "fc677406-0f6b-4c20-84d3-4e1b86df091c",
     "showTitle": false,
     "tableResultSettingsMap": {},
     "title": ""
    }
   },
   "outputs": [
    {
     "output_type": "stream",
     "name": "stdout",
     "output_type": "stream",
     "text": [
      "+----+-----+------------+\n|dept| Name|Total_Salary|\n+----+-----+------------+\n|  IT|Saket|        2000|\n|  IT|Anuja|        4000|\n|  HR| Anuj|        3000|\n| OPS|  Anu|        2000|\n+----+-----+------------+\n\n"
     ]
    }
   ],
   "source": [
    "from pyspark.sql.functions import *\n",
    "df_grouped = df.groupBy(\"dept\", \"Name\").agg(sum(\"Salary\").alias(\"Total_Salary\"))\n",
    "df_grouped.show()\n"
   ]
  },
  {
   "cell_type": "code",
   "execution_count": 0,
   "metadata": {
    "application/vnd.databricks.v1+cell": {
     "cellMetadata": {},
     "inputWidgets": {},
     "nuid": "b1793b30-7465-47ea-8fed-c28a9746ac4e",
     "showTitle": false,
     "tableResultSettingsMap": {},
     "title": ""
    }
   },
   "outputs": [],
   "source": []
  }
 ],
 "metadata": {
  "application/vnd.databricks.v1+notebook": {
   "computePreferences": null,
   "dashboards": [],
   "environmentMetadata": {
    "base_environment": "",
    "client": "1"
   },
   "language": "python",
   "notebookMetadata": {
    "pythonIndentUnit": 4
   },
   "notebookName": "groupBy",
   "widgets": {}
  }
 },
 "nbformat": 4,
 "nbformat_minor": 0
}
