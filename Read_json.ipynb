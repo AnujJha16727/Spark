{
 "cells": [
  {
   "cell_type": "code",
   "execution_count": 0,
   "metadata": {
    "application/vnd.databricks.v1+cell": {
     "cellMetadata": {
      "byteLimit": 2048000,
      "rowLimit": 10000
     },
     "inputWidgets": {},
     "nuid": "721825e6-7c93-4107-97c4-82875ab5678b",
     "showTitle": false,
     "tableResultSettingsMap": {},
     "title": ""
    }
   },
   "outputs": [
    {
     "output_type": "stream",
     "name": "stdout",
     "output_type": "stream",
     "text": [
      "+--------------------+--------------------+----------+------+----+---------------+----------+\n|     _corrupt_record|               email|first_name|gender|  id|     ip_address| last_name|\n+--------------------+--------------------+----------+------+----+---------------+----------+\n|[{\"id\":1,\"first_n...|                null|      null|  null|null|           null|      null|\n|                null| smattheeuw1@fda.gov|   Samuele|  Male|   2| 131.252.133.83| Mattheeuw|\n|                null|ksodor2@odnoklass...|     Kelcy|Female|   3|  195.43.18.122|     Sodor|\n|                null|pkusick3@hostgato...|  Philbert|  Male|   4|  196.96.15.252|    Kusick|\n|                null|cshipway4@goodrea...|   Coretta|Female|   5|   148.78.33.69|   Shipway|\n|                null|dbinion5@cargocol...|      Dion|  Male|   6|224.250.198.158|    Binion|\n|                null|   dstoyell6@home.pl|   Delaney|  Male|   7| 39.149.198.243|   Stoyell|\n|                null|egribble7@miibeia...|    Enrica|Female|   8|229.210.108.141|   Gribble|\n|                null|iinger8@prnewswir...|   Idalina|Female|   9|   34.32.48.157|     Inger|\n|                null|dsowerby9@tumblr.com|     Dorry|Female|  10|157.177.108.116|   Sowerby|\n|                null|gbedella@aboutads...|      Gail|  Male|  11| 142.111.242.23|    Bedell|\n|                null|gmccrackemb@blogs...|    Geneva|Female|  12|  65.154.89.164| McCrackem|\n|                null|jbrimhamc@livejou...|     Jonis|Female|  13|194.150.187.146|   Brimham|\n|                null|       njessopd@g.co|    Nalani|Female|  14|    4.209.23.96|    Jessop|\n|                null|sclemmensene@hc36...|    Stearn|  Male|  15|174.153.155.235|Clemmensen|\n|                null|earnfieldf@wiley.com|   Ellerey|  Male|  16|  19.110.221.84|  Arnfield|\n|                null|ballowayg@vinaora...|     Brade|  Male|  17| 204.75.188.113|   Alloway|\n|                null|wmcdonaghh@ezinea...|      Wash|  Male|  18|  157.158.1.129|  McDonagh|\n|                null| lmcguffogi@jugem.jp|   Lilllie|Female|  19| 44.143.182.241|  McGuffog|\n|                null|  pbaukhamj@ehow.com|   Pacorro|  Male|  20| 16.221.167.200|   Baukham|\n+--------------------+--------------------+----------+------+----+---------------+----------+\nonly showing top 20 rows\n\n"
     ]
    }
   ],
   "source": [
    "\n",
    "df = spark.read.json(\"/FileStore/tables/MOCK_DATA.json\")\n",
    "df.show()\n"
   ]
  },
  {
   "cell_type": "code",
   "execution_count": 0,
   "metadata": {
    "application/vnd.databricks.v1+cell": {
     "cellMetadata": {
      "byteLimit": 2048000,
      "rowLimit": 10000
     },
     "inputWidgets": {},
     "nuid": "9810ce11-cb70-4bcf-8101-73c3844fc9e2",
     "showTitle": false,
     "tableResultSettingsMap": {},
     "title": ""
    }
   },
   "outputs": [],
   "source": [
    "# Create a view or table\n",
    "\n",
    "temp_table_name = \"MOCK_DATA_csv\"\n",
    "\n",
    "df.createOrReplaceTempView(temp_table_name)"
   ]
  },
  {
   "cell_type": "code",
   "execution_count": 0,
   "metadata": {
    "application/vnd.databricks.v1+cell": {
     "cellMetadata": {},
     "inputWidgets": {},
     "nuid": "c32bab10-de9a-4008-8e38-99c2c2f10462",
     "showTitle": false,
     "tableResultSettingsMap": {},
     "title": ""
    }
   },
   "outputs": [],
   "source": [
    "# can also read from different files S3,DBFS etc ."
   ]
  }
 ],
 "metadata": {
  "application/vnd.databricks.v1+notebook": {
   "computePreferences": null,
   "dashboards": [],
   "environmentMetadata": {
    "base_environment": "",
    "environment_version": "1"
   },
   "inputWidgetPreferences": null,
   "language": "python",
   "notebookMetadata": {
    "pythonIndentUnit": 4
   },
   "notebookName": "Read_json",
   "widgets": {}
  }
 },
 "nbformat": 4,
 "nbformat_minor": 0
}
