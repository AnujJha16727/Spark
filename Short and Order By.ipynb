{
 "cells": [
  {
   "cell_type": "code",
   "execution_count": 0,
   "metadata": {
    "application/vnd.databricks.v1+cell": {
     "cellMetadata": {
      "byteLimit": 2048000,
      "rowLimit": 10000
     },
     "inputWidgets": {},
     "nuid": "aff0bede-a1fb-48e3-be89-24d1325c3167",
     "showTitle": false,
     "tableResultSettingsMap": {},
     "title": ""
    }
   },
   "outputs": [
    {
     "output_type": "stream",
     "name": "stdout",
     "output_type": "stream",
     "text": [
      "+---+-----+------+------+----+\n| id| name|gender|salary|dept|\n+---+-----+------+------+----+\n|  1|Saket|  male|  2000|  IT|\n|  2| Anuj|  male|  3000|  HR|\n|  3| Anil|  male|  3000| Ops|\n|  4|  Anu|female|  2000|  HR|\n+---+-----+------+------+----+\n\n"
     ]
    }
   ],
   "source": [
    "data = [\n",
    "    (1, 'Saket', 'male', 2000,'IT'),\n",
    "    (2, 'Anuj', 'male', 3000,'HR'),\n",
    "    (3, 'Anil', 'male', 3000,'Ops'),  \n",
    "    (4, 'Anu', 'female', 2000,'HR'),\n",
    "]\n",
    "\n",
    "\n",
    "schema = ['id', 'name', 'gender', 'salary','dept']\n",
    "\n",
    "\n",
    "df = spark.createDataFrame(data, schema)\n",
    "\n",
    "\n",
    "df.show()\n"
   ]
  },
  {
   "cell_type": "code",
   "execution_count": 0,
   "metadata": {
    "application/vnd.databricks.v1+cell": {
     "cellMetadata": {
      "byteLimit": 2048000,
      "rowLimit": 10000
     },
     "inputWidgets": {},
     "nuid": "f57508d6-4f52-44cb-b197-98036026f703",
     "showTitle": false,
     "tableResultSettingsMap": {},
     "title": ""
    }
   },
   "outputs": [
    {
     "output_type": "stream",
     "name": "stdout",
     "output_type": "stream",
     "text": [
      "+---+-----+------+------+----+\n| id| name|gender|salary|dept|\n+---+-----+------+------+----+\n|  2| Anuj|  male|  3000|  HR|\n|  4|  Anu|female|  2000|  HR|\n|  1|Saket|  male|  2000|  IT|\n|  3| Anil|  male|  3000| Ops|\n+---+-----+------+------+----+\n\n"
     ]
    }
   ],
   "source": [
    "df.sort(df.dept).show()"
   ]
  },
  {
   "cell_type": "code",
   "execution_count": 0,
   "metadata": {
    "application/vnd.databricks.v1+cell": {
     "cellMetadata": {
      "byteLimit": 2048000,
      "rowLimit": 10000
     },
     "inputWidgets": {},
     "nuid": "0cd36865-557c-40ed-bb18-431aa9c189fb",
     "showTitle": false,
     "tableResultSettingsMap": {},
     "title": ""
    }
   },
   "outputs": [
    {
     "output_type": "stream",
     "name": "stdout",
     "output_type": "stream",
     "text": [
      "+---+-----+------+------+----+\n| id| name|gender|salary|dept|\n+---+-----+------+------+----+\n|  4|  Anu|female|  2000|  HR|\n|  2| Anuj|  male|  3000|  HR|\n|  1|Saket|  male|  2000|  IT|\n|  3| Anil|  male|  3000| Ops|\n+---+-----+------+------+----+\n\n"
     ]
    }
   ],
   "source": [
    "df.orderBy(df.dept).show()"
   ]
  },
  {
   "cell_type": "code",
   "execution_count": 0,
   "metadata": {
    "application/vnd.databricks.v1+cell": {
     "cellMetadata": {
      "byteLimit": 2048000,
      "rowLimit": 10000
     },
     "inputWidgets": {},
     "nuid": "57a06ce9-f5b7-4a20-b562-ad05d436f79c",
     "showTitle": false,
     "tableResultSettingsMap": {},
     "title": ""
    }
   },
   "outputs": [
    {
     "output_type": "stream",
     "name": "stdout",
     "output_type": "stream",
     "text": [
      "+---+-----+------+------+----+\n| id| name|gender|salary|dept|\n+---+-----+------+------+----+\n|  2| Anuj|  male|  3000|  HR|\n|  4|  Anu|female|  2000|  HR|\n|  1|Saket|  male|  2000|  IT|\n|  3| Anil|  male|  3000| Ops|\n+---+-----+------+------+----+\n\n"
     ]
    }
   ],
   "source": [
    "df.sort(df.dept,df.id).show()"
   ]
  },
  {
   "cell_type": "code",
   "execution_count": 0,
   "metadata": {
    "application/vnd.databricks.v1+cell": {
     "cellMetadata": {},
     "inputWidgets": {},
     "nuid": "d6da41d8-14f4-4ccc-af5f-59007fe16e7e",
     "showTitle": false,
     "tableResultSettingsMap": {},
     "title": ""
    }
   },
   "outputs": [],
   "source": []
  }
 ],
 "metadata": {
  "application/vnd.databricks.v1+notebook": {
   "computePreferences": null,
   "dashboards": [],
   "environmentMetadata": {
    "base_environment": "",
    "environment_version": "1"
   },
   "inputWidgetPreferences": null,
   "language": "python",
   "notebookMetadata": {
    "pythonIndentUnit": 4
   },
   "notebookName": "Short and Order By",
   "widgets": {}
  }
 },
 "nbformat": 4,
 "nbformat_minor": 0
}
