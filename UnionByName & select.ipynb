{
 "cells": [
  {
   "cell_type": "code",
   "execution_count": 0,
   "metadata": {
    "application/vnd.databricks.v1+cell": {
     "cellMetadata": {
      "byteLimit": 2048000,
      "rowLimit": 10000
     },
     "inputWidgets": {},
     "nuid": "875707a8-7ba7-435f-bd61-cd84fb1fc3b5",
     "showTitle": false,
     "tableResultSettingsMap": {},
     "title": ""
    }
   },
   "outputs": [
    {
     "output_type": "stream",
     "name": "stdout",
     "output_type": "stream",
     "text": [
      "+---+-----+---+\n| id| name|age|\n+---+-----+---+\n|  1|Saket| 24|\n+---+-----+---+\n\n+---+-----+------+\n| id| name|Salary|\n+---+-----+------+\n|  1|Saket| 20000|\n+---+-----+------+\n\n"
     ]
    }
   ],
   "source": [
    "data1= [(1,'Saket', 24)]\n",
    "schema1 =['id','name','age']\n",
    "\n",
    "data2= [(1,'Saket',20000)]\n",
    "schema2 =['id','name','Salary']\n",
    "\n",
    "df1=spark.createDataFrame(data1,schema1)\n",
    "df2=spark.createDataFrame(data2, schema2)\n",
    "\n",
    "df1.show()\n",
    "df2.show()\n"
   ]
  },
  {
   "cell_type": "code",
   "execution_count": 0,
   "metadata": {
    "application/vnd.databricks.v1+cell": {
     "cellMetadata": {
      "byteLimit": 2048000,
      "rowLimit": 10000
     },
     "inputWidgets": {},
     "nuid": "54a01a4d-d0d4-4d8b-9966-76b4b5a8962c",
     "showTitle": false,
     "tableResultSettingsMap": {},
     "title": ""
    }
   },
   "outputs": [
    {
     "output_type": "stream",
     "name": "stdout",
     "output_type": "stream",
     "text": [
      "+---+-----+----+------+\n| id| name| age|Salary|\n+---+-----+----+------+\n|  1|Saket|  24|  null|\n|  1|Saket|null| 20000|\n+---+-----+----+------+\n\n"
     ]
    }
   ],
   "source": [
    "union_df = df1.unionByName(df2,allowMissingColumns=True)\n",
    "union_df.show()\n"
   ]
  },
  {
   "cell_type": "code",
   "execution_count": 0,
   "metadata": {
    "application/vnd.databricks.v1+cell": {
     "cellMetadata": {
      "byteLimit": 2048000,
      "rowLimit": 10000
     },
     "inputWidgets": {},
     "nuid": "5123b170-9a19-4722-8205-5bf6606f60b8",
     "showTitle": false,
     "tableResultSettingsMap": {},
     "title": ""
    }
   },
   "outputs": [
    {
     "output_type": "stream",
     "name": "stdout",
     "output_type": "stream",
     "text": [
      "+---+-----+\n| id| name|\n+---+-----+\n|  1|Saket|\n+---+-----+\n\n"
     ]
    }
   ],
   "source": [
    "from pyspark.sql.functions import *\n",
    "df1.select(col('id'),col('name')).show()"
   ]
  },
  {
   "cell_type": "code",
   "execution_count": 0,
   "metadata": {
    "application/vnd.databricks.v1+cell": {
     "cellMetadata": {
      "byteLimit": 2048000,
      "rowLimit": 10000
     },
     "inputWidgets": {},
     "nuid": "90d8b63f-6dfb-4fb3-b0d3-35366b21dc1f",
     "showTitle": false,
     "tableResultSettingsMap": {},
     "title": ""
    }
   },
   "outputs": [
    {
     "output_type": "stream",
     "name": "stdout",
     "output_type": "stream",
     "text": [
      "+---+-----+------+\n| id| name|Salary|\n+---+-----+------+\n|  1|Saket| 20000|\n+---+-----+------+\n\n"
     ]
    }
   ],
   "source": [
    "df2.select([col for col in df2.columns]).show()"
   ]
  },
  {
   "cell_type": "code",
   "execution_count": 0,
   "metadata": {
    "application/vnd.databricks.v1+cell": {
     "cellMetadata": {},
     "inputWidgets": {},
     "nuid": "ff97c619-c966-4262-a307-0b0caeae9ed6",
     "showTitle": false,
     "tableResultSettingsMap": {},
     "title": ""
    }
   },
   "outputs": [],
   "source": []
  }
 ],
 "metadata": {
  "application/vnd.databricks.v1+notebook": {
   "computePreferences": null,
   "dashboards": [],
   "environmentMetadata": {
    "base_environment": "",
    "client": "1"
   },
   "language": "python",
   "notebookMetadata": {
    "pythonIndentUnit": 4
   },
   "notebookName": "UnionByName & select",
   "widgets": {}
  }
 },
 "nbformat": 4,
 "nbformat_minor": 0
}
