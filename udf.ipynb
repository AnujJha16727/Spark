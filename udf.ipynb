{
 "cells": [
  {
   "cell_type": "code",
   "execution_count": 0,
   "metadata": {
    "application/vnd.databricks.v1+cell": {
     "cellMetadata": {
      "byteLimit": 2048000,
      "rowLimit": 10000
     },
     "inputWidgets": {},
     "nuid": "8145a03e-3532-4979-a4ba-1496485330fb",
     "showTitle": false,
     "tableResultSettingsMap": {},
     "title": ""
    }
   },
   "outputs": [
    {
     "output_type": "stream",
     "name": "stdout",
     "output_type": "stream",
     "text": [
      "+---+------+------+------+\n| id|  name|gender|salary|\n+---+------+------+------+\n|  1| Saket|  male|  2000|\n|  2|  Anuj|  male|  3000|\n|  3|Anjali|female|  3000|\n|  4|   Anu|female|  2000|\n+---+------+------+------+\n\n"
     ]
    }
   ],
   "source": [
    "data = [\n",
    "    (1, 'Saket', 'male', 2000),\n",
    "    (2, 'Anuj', 'male', 3000),\n",
    "    (3, 'Anjali', 'female', 3000),  \n",
    "    (4, 'Anu', 'female', 2000)\n",
    "]\n",
    "\n",
    "schema = ['id', 'name', 'gender', 'salary']\n",
    "\n",
    "df = spark.createDataFrame(data, schema)\n",
    "df.show()\n",
    "\n"
   ]
  },
  {
   "cell_type": "code",
   "execution_count": 0,
   "metadata": {
    "application/vnd.databricks.v1+cell": {
     "cellMetadata": {
      "byteLimit": 2048000,
      "rowLimit": 10000
     },
     "inputWidgets": {},
     "nuid": "899ae111-4f3c-497a-91aa-1740492d6b9f",
     "showTitle": false,
     "tableResultSettingsMap": {},
     "title": ""
    }
   },
   "outputs": [],
   "source": [
    "from pyspark.sql import SparkSession\n",
    "from pyspark.sql.functions import udf\n",
    "from pyspark.sql.types import IntegerType, FloatType\n",
    "\n",
    "def calculate_salary(gender, salary):\n",
    "    if gender == \"male\":\n",
    "        return salary * 1.10  \n",
    "    elif gender == \"female\":\n",
    "        return salary * 1.15  \n",
    "    else:\n",
    "        return salary  \n",
    "\n",
    "\n",
    "calculate_salary_udf = udf(calculate_salary, FloatType())\n",
    "\n"
   ]
  },
  {
   "cell_type": "code",
   "execution_count": 0,
   "metadata": {
    "application/vnd.databricks.v1+cell": {
     "cellMetadata": {
      "byteLimit": 2048000,
      "rowLimit": 10000
     },
     "inputWidgets": {},
     "nuid": "2aa04039-4efc-444e-a153-f109ad2d30b2",
     "showTitle": false,
     "tableResultSettingsMap": {},
     "title": ""
    }
   },
   "outputs": [
    {
     "output_type": "stream",
     "name": "stdout",
     "output_type": "stream",
     "text": [
      "+---+------+------+------+--------------+\n| id|  name|gender|salary|Updated_Salary|\n+---+------+------+------+--------------+\n|  1| Saket|  male|  2000|        2200.0|\n|  2|  Anuj|  male|  3000|        3300.0|\n|  3|Anjali|female|  3000|        3450.0|\n|  4|   Anu|female|  2000|        2300.0|\n+---+------+------+------+--------------+\n\n"
     ]
    }
   ],
   "source": [
    "df = df.withColumn(\"Updated_Salary\", calculate_salary_udf(df[\"gender\"], df[\"salary\"]))\n",
    "df.show()\n"
   ]
  },
  {
   "cell_type": "code",
   "execution_count": 0,
   "metadata": {
    "application/vnd.databricks.v1+cell": {
     "cellMetadata": {},
     "inputWidgets": {},
     "nuid": "24ede453-f283-4ead-8375-007fdcd5df05",
     "showTitle": false,
     "tableResultSettingsMap": {},
     "title": ""
    }
   },
   "outputs": [],
   "source": []
  }
 ],
 "metadata": {
  "application/vnd.databricks.v1+notebook": {
   "computePreferences": null,
   "dashboards": [],
   "environmentMetadata": {
    "base_environment": "",
    "client": "1"
   },
   "language": "python",
   "notebookMetadata": {
    "pythonIndentUnit": 4
   },
   "notebookName": "udf",
   "widgets": {}
  }
 },
 "nbformat": 4,
 "nbformat_minor": 0
}
