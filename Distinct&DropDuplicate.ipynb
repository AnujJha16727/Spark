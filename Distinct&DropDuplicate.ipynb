{
 "cells": [
  {
   "cell_type": "code",
   "execution_count": 0,
   "metadata": {
    "application/vnd.databricks.v1+cell": {
     "cellMetadata": {
      "byteLimit": 2048000,
      "rowLimit": 10000
     },
     "inputWidgets": {},
     "nuid": "aff0bede-a1fb-48e3-be89-24d1325c3167",
     "showTitle": false,
     "tableResultSettingsMap": {},
     "title": ""
    }
   },
   "outputs": [
    {
     "output_type": "stream",
     "name": "stdout",
     "output_type": "stream",
     "text": [
      "+---+-----+------+------+\n| id| name|gender|salary|\n+---+-----+------+------+\n|  1|Saket|  male|  2000|\n|  2| Anuj|  male|  3000|\n|  2| Anuj|  male|  3000|\n|  3|  Anu|female|  2000|\n+---+-----+------+------+\n\n"
     ]
    }
   ],
   "source": [
    "from pyspark.sql import SparkSession\n",
    "\n",
    "\n",
    "spark = SparkSession.builder.appName(\"Example\").getOrCreate()\n",
    "\n",
    "\n",
    "data = [\n",
    "    (1, 'Saket', 'male', 2000),\n",
    "    (2, 'Anuj', 'male', 3000),\n",
    "    (2, 'Anuj', 'male', 3000),  \n",
    "    (3, 'Anu', 'female', 2000)\n",
    "]\n",
    "\n",
    "\n",
    "schema = ['id', 'name', 'gender', 'salary']\n",
    "\n",
    "\n",
    "df = spark.createDataFrame(data, schema)\n",
    "\n",
    "\n",
    "df.show()\n"
   ]
  },
  {
   "cell_type": "code",
   "execution_count": 0,
   "metadata": {
    "application/vnd.databricks.v1+cell": {
     "cellMetadata": {
      "byteLimit": 2048000,
      "rowLimit": 10000
     },
     "inputWidgets": {},
     "nuid": "f57508d6-4f52-44cb-b197-98036026f703",
     "showTitle": false,
     "tableResultSettingsMap": {},
     "title": ""
    }
   },
   "outputs": [
    {
     "output_type": "stream",
     "name": "stdout",
     "output_type": "stream",
     "text": [
      "+---+-----+------+------+\n| id| name|gender|salary|\n+---+-----+------+------+\n|  1|Saket|  male|  2000|\n|  2| Anuj|  male|  3000|\n|  3|  Anu|female|  2000|\n+---+-----+------+------+\n\n"
     ]
    }
   ],
   "source": [
    "df_new = df.dropDuplicates()\n",
    "df_new.show()"
   ]
  },
  {
   "cell_type": "code",
   "execution_count": 0,
   "metadata": {
    "application/vnd.databricks.v1+cell": {
     "cellMetadata": {
      "byteLimit": 2048000,
      "rowLimit": 10000
     },
     "inputWidgets": {},
     "nuid": "0cd36865-557c-40ed-bb18-431aa9c189fb",
     "showTitle": false,
     "tableResultSettingsMap": {},
     "title": ""
    }
   },
   "outputs": [
    {
     "output_type": "stream",
     "name": "stdout",
     "output_type": "stream",
     "text": [
      "+---+-----+------+------+\n| id| name|gender|salary|\n+---+-----+------+------+\n|  1|Saket|  male|  2000|\n|  2| Anuj|  male|  3000|\n|  3|  Anu|female|  2000|\n+---+-----+------+------+\n\n"
     ]
    }
   ],
   "source": [
    "df_distinct = df.distinct()\n",
    "df_distinct.show()"
   ]
  },
  {
   "cell_type": "code",
   "execution_count": 0,
   "metadata": {
    "application/vnd.databricks.v1+cell": {
     "cellMetadata": {},
     "inputWidgets": {},
     "nuid": "57a06ce9-f5b7-4a20-b562-ad05d436f79c",
     "showTitle": false,
     "tableResultSettingsMap": {},
     "title": ""
    }
   },
   "outputs": [],
   "source": []
  }
 ],
 "metadata": {
  "application/vnd.databricks.v1+notebook": {
   "computePreferences": null,
   "dashboards": [],
   "environmentMetadata": {
    "base_environment": "",
    "environment_version": "1"
   },
   "inputWidgetPreferences": null,
   "language": "python",
   "notebookMetadata": {
    "pythonIndentUnit": 4
   },
   "notebookName": "Distinct&DropDuplicate",
   "widgets": {}
  }
 },
 "nbformat": 4,
 "nbformat_minor": 0
}
