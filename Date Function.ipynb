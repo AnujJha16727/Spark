{
 "cells": [
  {
   "cell_type": "code",
   "execution_count": 0,
   "metadata": {
    "application/vnd.databricks.v1+cell": {
     "cellMetadata": {
      "byteLimit": 2048000,
      "rowLimit": 10000
     },
     "inputWidgets": {},
     "nuid": "98242816-510a-4c79-a5df-a14042f6708f",
     "showTitle": false,
     "tableResultSettingsMap": {},
     "title": ""
    }
   },
   "outputs": [
    {
     "output_type": "stream",
     "name": "stdout",
     "output_type": "stream",
     "text": [
      "+-------------------+----------+-------------------+\n|           date_str|      date|          timestamp|\n+-------------------+----------+-------------------+\n|26-03-2025 10:15:00|2025-03-26|2025-03-26 10:15:00|\n+-------------------+----------+-------------------+\n\n"
     ]
    }
   ],
   "source": [
    "from pyspark.sql.functions import to_date, to_timestamp\n",
    "\n",
    "df = spark.createDataFrame([(\"26-03-2025 10:15:00\",)], [\"date_str\"])\n",
    "\n",
    "df.select(\n",
    "    \"date_str\",\n",
    "    to_date(\"date_str\", \"dd-MM-yyyy HH:mm:ss\").alias(\"date\"),\n",
    "    to_timestamp(\"date_str\", \"dd-MM-yyyy HH:mm:ss\").alias(\"timestamp\")\n",
    ").show()\n"
   ]
  },
  {
   "cell_type": "code",
   "execution_count": 0,
   "metadata": {
    "application/vnd.databricks.v1+cell": {
     "cellMetadata": {
      "byteLimit": 2048000,
      "rowLimit": 10000
     },
     "inputWidgets": {},
     "nuid": "7491813d-5807-4137-bb63-274726a458c8",
     "showTitle": false,
     "tableResultSettingsMap": {},
     "title": ""
    }
   },
   "outputs": [
    {
     "output_type": "stream",
     "name": "stdout",
     "output_type": "stream",
     "text": [
      "+------------+--------------------+\n|current_date|   current_timestamp|\n+------------+--------------------+\n|  2025-03-26|2025-03-26 12:24:...|\n+------------+--------------------+\n\n"
     ]
    }
   ],
   "source": [
    "from pyspark.sql import SparkSession\n",
    "from pyspark.sql.functions import current_date, current_timestamp\n",
    "\n",
    "spark = SparkSession.builder.appName(\"DateFunctions\").getOrCreate()\n",
    "\n",
    "df = spark.createDataFrame([(1,)], [\"id\"])  \n",
    "df.select(current_date().alias(\"current_date\"), current_timestamp().alias(\"current_timestamp\")).show()\n"
   ]
  },
  {
   "cell_type": "code",
   "execution_count": 0,
   "metadata": {
    "application/vnd.databricks.v1+cell": {
     "cellMetadata": {
      "byteLimit": 2048000,
      "rowLimit": 10000
     },
     "inputWidgets": {},
     "nuid": "0434a5a0-e840-4072-a708-7086cdc4aec6",
     "showTitle": false,
     "tableResultSettingsMap": {},
     "title": ""
    }
   },
   "outputs": [
    {
     "output_type": "stream",
     "name": "stdout",
     "output_type": "stream",
     "text": [
      "+----------+-----------+----------+\n|      date|add_10_days|sub_5_days|\n+----------+-----------+----------+\n|2025-03-26| 2025-04-05|2025-03-21|\n+----------+-----------+----------+\n\n"
     ]
    }
   ],
   "source": [
    "from pyspark.sql.functions import date_add, date_sub\n",
    "\n",
    "df = spark.createDataFrame([(\"2025-03-26\",)], [\"date\"])\n",
    "df = df.withColumn(\"date\", df[\"date\"].cast(\"date\"))  # Convert string to date\n",
    "df.select(\"date\", date_add(\"date\", 10).alias(\"add_10_days\"), date_sub(\"date\", 5).alias(\"sub_5_days\")).show()\n"
   ]
  },
  {
   "cell_type": "code",
   "execution_count": 0,
   "metadata": {
    "application/vnd.databricks.v1+cell": {
     "cellMetadata": {},
     "inputWidgets": {},
     "nuid": "5c1cebb1-9804-49da-9117-8a0ee2c1744e",
     "showTitle": false,
     "tableResultSettingsMap": {},
     "title": ""
    }
   },
   "outputs": [],
   "source": []
  }
 ],
 "metadata": {
  "application/vnd.databricks.v1+notebook": {
   "computePreferences": null,
   "dashboards": [],
   "environmentMetadata": {
    "base_environment": "",
    "environment_version": "1"
   },
   "inputWidgetPreferences": null,
   "language": "python",
   "notebookMetadata": {
    "pythonIndentUnit": 4
   },
   "notebookName": "Date Function",
   "widgets": {}
  }
 },
 "nbformat": 4,
 "nbformat_minor": 0
}