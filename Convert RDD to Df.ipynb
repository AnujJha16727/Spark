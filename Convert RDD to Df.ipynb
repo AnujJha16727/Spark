{
 "cells": [
  {
   "cell_type": "code",
   "execution_count": 0,
   "metadata": {
    "application/vnd.databricks.v1+cell": {
     "cellMetadata": {
      "byteLimit": 2048000,
      "rowLimit": 10000
     },
     "inputWidgets": {},
     "nuid": "030f7854-53b0-477b-9d69-8c14d7a84b4c",
     "showTitle": false,
     "tableResultSettingsMap": {},
     "title": ""
    }
   },
   "outputs": [],
   "source": [
    "#Rdd is simalar to list but it is immutable.\n",
    "data = [\n",
    "    (1, 'Saket', 'male', 2000,'IT'),\n",
    "    (2, 'Anuj', 'male', 3000,'IT'),\n",
    "    (3, 'Anaji', 'female', 3000,'HR'),  \n",
    "    (3, 'Anu', 'female', 2000,'OPS')\n",
    "]\n",
    "\n",
    "rdd= spark.sparkContext.parallelize(data)\n"
   ]
  },
  {
   "cell_type": "code",
   "execution_count": 0,
   "metadata": {
    "application/vnd.databricks.v1+cell": {
     "cellMetadata": {
      "byteLimit": 2048000,
      "rowLimit": 10000
     },
     "inputWidgets": {},
     "nuid": "36154cb4-f41e-4810-8e14-229fda759598",
     "showTitle": false,
     "tableResultSettingsMap": {},
     "title": ""
    }
   },
   "outputs": [
    {
     "output_type": "stream",
     "name": "stdout",
     "output_type": "stream",
     "text": [
      "[(1, 'Saket', 'male', 2000, 'IT'), (2, 'Anuj', 'male', 3000, 'IT'), (3, 'Anaji', 'female', 3000, 'HR'), (3, 'Anu', 'female', 2000, 'OPS')]\n"
     ]
    }
   ],
   "source": [
    "print(rdd.collect())"
   ]
  },
  {
   "cell_type": "code",
   "execution_count": 0,
   "metadata": {
    "application/vnd.databricks.v1+cell": {
     "cellMetadata": {
      "byteLimit": 2048000,
      "rowLimit": 10000
     },
     "inputWidgets": {},
     "nuid": "1a0c37f0-0619-4dc3-9d7c-820a1c5b0dc1",
     "showTitle": false,
     "tableResultSettingsMap": {},
     "title": ""
    }
   },
   "outputs": [
    {
     "output_type": "stream",
     "name": "stdout",
     "output_type": "stream",
     "text": [
      "Out[3]: DataFrame[_1: bigint, _2: string, _3: string, _4: bigint, _5: string]"
     ]
    }
   ],
   "source": [
    "rdd.toDF()"
   ]
  },
  {
   "cell_type": "code",
   "execution_count": 0,
   "metadata": {
    "application/vnd.databricks.v1+cell": {
     "cellMetadata": {
      "byteLimit": 2048000,
      "rowLimit": 10000
     },
     "inputWidgets": {},
     "nuid": "3e1f2ae2-e8bc-4292-b6fd-8f99c1bd2d49",
     "showTitle": false,
     "tableResultSettingsMap": {},
     "title": ""
    }
   },
   "outputs": [
    {
     "output_type": "stream",
     "name": "stdout",
     "output_type": "stream",
     "text": [
      "+---+-----+------+------+----+\n| id| name|gender|salary|dept|\n+---+-----+------+------+----+\n|  1|Saket|  male|  2000|  IT|\n|  2| Anuj|  male|  3000|  IT|\n|  3|Anaji|female|  3000|  HR|\n|  3|  Anu|female|  2000| OPS|\n+---+-----+------+------+----+\n\n"
     ]
    }
   ],
   "source": [
    "df1=rdd.toDF(schema=['id','name','gender','salary','dept'])\n",
    "df1.show()"
   ]
  },
  {
   "cell_type": "code",
   "execution_count": 0,
   "metadata": {
    "application/vnd.databricks.v1+cell": {
     "cellMetadata": {
      "byteLimit": 2048000,
      "rowLimit": 10000
     },
     "inputWidgets": {},
     "nuid": "fb64cf05-7af4-4c78-93a0-8084dcbf18d3",
     "showTitle": false,
     "tableResultSettingsMap": {},
     "title": ""
    }
   },
   "outputs": [
    {
     "output_type": "stream",
     "name": "stdout",
     "output_type": "stream",
     "text": [
      "[Row(id=1, name='Saket', salary=200), Row(id=2, name='Anuj', salary=300)]\n"
     ]
    }
   ],
   "source": [
    "df = spark.createDataFrame([(1, \"Saket\",200), (2, \"Anuj\",300)], [\"id\", \"name\",'salary'])\n",
    "rdd = df.rdd  # Convert DataFrame to RDD\n",
    "print(rdd.collect())  \n"
   ]
  },
  {
   "cell_type": "code",
   "execution_count": 0,
   "metadata": {
    "application/vnd.databricks.v1+cell": {
     "cellMetadata": {
      "byteLimit": 2048000,
      "rowLimit": 10000
     },
     "inputWidgets": {},
     "nuid": "fefe6949-b07a-499c-9e73-0b56e84c25db",
     "showTitle": false,
     "tableResultSettingsMap": {},
     "title": ""
    }
   },
   "outputs": [
    {
     "output_type": "stream",
     "name": "stdout",
     "output_type": "stream",
     "text": [
      "[2, 4]\n"
     ]
    }
   ],
   "source": [
    "rdd2 = rdd.map(lambda x: x * 2)  \n",
    "print(rdd2.collect())  "
   ]
  },
  {
   "cell_type": "code",
   "execution_count": 0,
   "metadata": {
    "application/vnd.databricks.v1+cell": {
     "cellMetadata": {
      "byteLimit": 2048000,
      "rowLimit": 10000
     },
     "inputWidgets": {},
     "nuid": "e6c26ffb-168e-4ada-a3ea-1a8c5fde1de7",
     "showTitle": false,
     "tableResultSettingsMap": {},
     "title": ""
    }
   },
   "outputs": [
    {
     "output_type": "stream",
     "name": "stdout",
     "output_type": "stream",
     "text": [
      "[2]\n"
     ]
    }
   ],
   "source": [
    "rdd = df.rdd.map(lambda row: row[\"id\"]) \n",
    "\n",
    "rdd_filtered = rdd.filter(lambda x: x > 1)\n",
    "print(rdd_filtered.collect())  \n"
   ]
  },
  {
   "cell_type": "code",
   "execution_count": 0,
   "metadata": {
    "application/vnd.databricks.v1+cell": {
     "cellMetadata": {},
     "inputWidgets": {},
     "nuid": "795ed962-2b73-4b00-ad7c-18c56b1eb3a5",
     "showTitle": false,
     "tableResultSettingsMap": {},
     "title": ""
    }
   },
   "outputs": [],
   "source": []
  }
 ],
 "metadata": {
  "application/vnd.databricks.v1+notebook": {
   "computePreferences": null,
   "dashboards": [],
   "environmentMetadata": {
    "base_environment": "",
    "client": "1"
   },
   "language": "python",
   "notebookMetadata": {
    "pythonIndentUnit": 4
   },
   "notebookName": "Convert RDD to Df",
   "widgets": {}
  }
 },
 "nbformat": 4,
 "nbformat_minor": 0
}
