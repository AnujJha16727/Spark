{
 "cells": [
  {
   "cell_type": "code",
   "execution_count": 0,
   "metadata": {
    "application/vnd.databricks.v1+cell": {
     "cellMetadata": {
      "byteLimit": 2048000,
      "rowLimit": 10000
     },
     "inputWidgets": {},
     "nuid": "c5ee3fb3-722d-42f8-ba54-0fd934143f4f",
     "showTitle": false,
     "tableResultSettingsMap": {},
     "title": ""
    }
   },
   "outputs": [
    {
     "output_type": "stream",
     "name": "stdout",
     "output_type": "stream",
     "text": [
      "+------+------------+\n|name  |scores      |\n+------+------------+\n|Ram   |[85, 90, 95]|\n|Sham  |[78, 88, 92]|\n|Balram|[80, 85, 89]|\n+------+------------+\n\n"
     ]
    }
   ],
   "source": [
    "\n",
    "from pyspark.sql.types import * #we use the astric symbol to import all present in the library .\n",
    "\n",
    "schema = StructType([\n",
    "    StructField(\"name\", StringType(), True),\n",
    "    StructField(\"scores\", ArrayType(IntegerType()), True)  \n",
    "]) #We are taking list of number as input.\n",
    "\n",
    "data = [\n",
    "    (\"Ram\", [85, 90, 95]),\n",
    "    (\"Sham\", [78, 88, 92]),\n",
    "    (\"Balram\", [80, 85, 89])\n",
    "]\n",
    "\n",
    "df = spark.createDataFrame(data, schema)\n",
    "\n",
    "df.show(truncate=False)\n"
   ]
  }
 ],
 "metadata": {
  "application/vnd.databricks.v1+notebook": {
   "computePreferences": null,
   "dashboards": [],
   "environmentMetadata": {
    "base_environment": "",
    "environment_version": "1"
   },
   "inputWidgetPreferences": null,
   "language": "python",
   "notebookMetadata": {
    "pythonIndentUnit": 4
   },
   "notebookName": "ArrrayTypee",
   "widgets": {}
  }
 },
 "nbformat": 4,
 "nbformat_minor": 0
}
