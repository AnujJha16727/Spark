{
 "cells": [
  {
   "cell_type": "code",
   "execution_count": 0,
   "metadata": {
    "application/vnd.databricks.v1+cell": {
     "cellMetadata": {
      "byteLimit": 2048000,
      "rowLimit": 10000
     },
     "inputWidgets": {},
     "nuid": "b5bfcca3-b00a-4ebe-ac8c-dbc79ab443a5",
     "showTitle": false,
     "tableResultSettingsMap": {},
     "title": ""
    }
   },
   "outputs": [],
   "source": [
    "from pyspark.sql import SparkSession\n",
    "from pyspark.sql.types import *\n",
    "\n",
    "spark = SparkSession.builder.appName(\"MapTypeExample\").getOrCreate()\n",
    "\n",
    "schema =StructType([\n",
    "    StructField(\"id\",IntegerType(), True),\n",
    "    StructField(\"info\",MapType(StringType(),StringType()),True)\n",
    "])"
   ]
  },
  {
   "cell_type": "code",
   "execution_count": 0,
   "metadata": {
    "application/vnd.databricks.v1+cell": {
     "cellMetadata": {
      "byteLimit": 2048000,
      "rowLimit": 10000
     },
     "inputWidgets": {},
     "nuid": "af6ad5f3-d1ef-4f78-81a3-0e4308d45157",
     "showTitle": false,
     "tableResultSettingsMap": {},
     "title": ""
    }
   },
   "outputs": [
    {
     "output_type": "display_data",
     "data": {
      "text/html": [
       "<style scoped>\n",
       "  .table-result-container {\n",
       "    max-height: 300px;\n",
       "    overflow: auto;\n",
       "  }\n",
       "  table, th, td {\n",
       "    border: 1px solid black;\n",
       "    border-collapse: collapse;\n",
       "  }\n",
       "  th, td {\n",
       "    padding: 5px;\n",
       "  }\n",
       "  th {\n",
       "    text-align: left;\n",
       "  }\n",
       "</style><div class='table-result-container'><table class='table-result'><thead style='background-color: white'><tr><th>id</th><th>info</th></tr></thead><tbody><tr><td>1</td><td>Map(name -> Anuj, city -> Patna)</td></tr><tr><td>2</td><td>Map(name -> Saket, city -> Los Angeles, age -> 30)</td></tr></tbody></table></div>"
      ]
     },
     "metadata": {
      "application/vnd.databricks.v1+output": {
       "addedWidgets": {},
       "aggData": [],
       "aggError": "",
       "aggOverflow": false,
       "aggSchema": [],
       "aggSeriesLimitReached": false,
       "aggType": "",
       "arguments": {},
       "columnCustomDisplayInfos": {},
       "data": [
        [
         1,
         {
          "city": "Patna",
          "name": "Anuj"
         }
        ],
        [
         2,
         {
          "age": "30",
          "city": "Los Angeles",
          "name": "Saket"
         }
        ]
       ],
       "datasetInfos": [],
       "dbfsResultPath": null,
       "isJsonSchema": true,
       "metadata": {},
       "overflow": false,
       "plotOptions": {
        "customPlotOptions": {},
        "displayType": "table",
        "pivotAggregation": null,
        "pivotColumns": null,
        "xColumns": null,
        "yColumns": null
       },
       "removedWidgets": [],
       "schema": [
        {
         "metadata": "{}",
         "name": "id",
         "type": "\"integer\""
        },
        {
         "metadata": "{}",
         "name": "info",
         "type": "{\"type\":\"map\",\"keyType\":\"string\",\"valueType\":\"string\",\"valueContainsNull\":true}"
        }
       ],
       "type": "table"
      }
     },
     "output_type": "display_data"
    }
   ],
   "source": [
    "data = [\n",
    "    (1, {\"name\": \"Anuj\", \"city\": \"Patna\"}),\n",
    "    (2, {\"name\": \"Saket\", \"city\": \"Los Angeles\", \"age\": \"30\"})\n",
    "]\n",
    "\n",
    "df = spark.createDataFrame(data, schema)\n",
    "display(df)\n"
   ]
  },
  {
   "cell_type": "code",
   "execution_count": 0,
   "metadata": {
    "application/vnd.databricks.v1+cell": {
     "cellMetadata": {
      "byteLimit": 2048000,
      "rowLimit": 10000
     },
     "inputWidgets": {},
     "nuid": "7e22772a-2335-4dcf-b429-95391d68af7f",
     "showTitle": false,
     "tableResultSettingsMap": {},
     "title": ""
    }
   },
   "outputs": [
    {
     "output_type": "stream",
     "name": "stdout",
     "output_type": "stream",
     "text": [
      "+---+-----------------------------------------------+-----------+\n|id |info                                           |City       |\n+---+-----------------------------------------------+-----------+\n|1  |{name -> Anuj, city -> Patna}                  |Patna      |\n|2  |{name -> Saket, city -> Los Angeles, age -> 30}|Los Angeles|\n+---+-----------------------------------------------+-----------+\n\n"
     ]
    }
   ],
   "source": [
    "df1=df.withColumn('City',df.info['city'])# We are making a new column as city to view the city information\n",
    "df1.show(truncate=False)"
   ]
  },
  {
   "cell_type": "code",
   "execution_count": 0,
   "metadata": {
    "application/vnd.databricks.v1+cell": {
     "cellMetadata": {
      "byteLimit": 2048000,
      "rowLimit": 10000
     },
     "inputWidgets": {},
     "nuid": "bf481da2-f326-4415-874c-c2a6a13e2695",
     "showTitle": false,
     "tableResultSettingsMap": {},
     "title": ""
    }
   },
   "outputs": [
    {
     "output_type": "stream",
     "name": "stdout",
     "output_type": "stream",
     "text": [
      "+---+-----------------------------------------------+-----------+-----+\n|id |info                                           |City       |name |\n+---+-----------------------------------------------+-----------+-----+\n|1  |{name -> Anuj, city -> Patna}                  |Patna      |Anuj |\n|2  |{name -> Saket, city -> Los Angeles, age -> 30}|Los Angeles|Saket|\n+---+-----------------------------------------------+-----------+-----+\n\n"
     ]
    }
   ],
   "source": [
    "df2=df1.withColumn('name',df.info.getItem('name'))\n",
    "df2.show(truncate=False)"
   ]
  },
  {
   "cell_type": "code",
   "execution_count": 0,
   "metadata": {
    "application/vnd.databricks.v1+cell": {
     "cellMetadata": {
      "byteLimit": 2048000,
      "rowLimit": 10000
     },
     "inputWidgets": {},
     "nuid": "5b2bf491-8033-4e39-8069-9a1da0655741",
     "showTitle": false,
     "tableResultSettingsMap": {},
     "title": ""
    }
   },
   "outputs": [
    {
     "output_type": "stream",
     "name": "stdout",
     "output_type": "stream",
     "text": [
      "+---+-----------------------------------------------+----+-----------+\n|id |info                                           |key |value      |\n+---+-----------------------------------------------+----+-----------+\n|1  |{name -> Anuj, city -> Patna}                  |name|Anuj       |\n|1  |{name -> Anuj, city -> Patna}                  |city|Patna      |\n|2  |{name -> Saket, city -> Los Angeles, age -> 30}|name|Saket      |\n|2  |{name -> Saket, city -> Los Angeles, age -> 30}|city|Los Angeles|\n|2  |{name -> Saket, city -> Los Angeles, age -> 30}|age |30         |\n+---+-----------------------------------------------+----+-----------+\n\n"
     ]
    }
   ],
   "source": [
    "from pyspark.sql.functions import explode\n",
    "\n",
    "df1=df.select('id','info',explode(df.info))# by using the explode function we can get the key and values for the following .\n",
    "df1.show(truncate=False)"
   ]
  },
  {
   "cell_type": "code",
   "execution_count": 0,
   "metadata": {
    "application/vnd.databricks.v1+cell": {
     "cellMetadata": {
      "byteLimit": 2048000,
      "rowLimit": 10000
     },
     "inputWidgets": {},
     "nuid": "68aacd99-e632-47d2-9315-cfd313a79e33",
     "showTitle": false,
     "tableResultSettingsMap": {},
     "title": ""
    }
   },
   "outputs": [
    {
     "output_type": "stream",
     "name": "stdout",
     "output_type": "stream",
     "text": [
      "+---+-----------------------------------------------+-----------------+\n|id |info                                           |keys             |\n+---+-----------------------------------------------+-----------------+\n|1  |{name -> Anuj, city -> Patna}                  |[name, city]     |\n|2  |{name -> Saket, city -> Los Angeles, age -> 30}|[name, city, age]|\n+---+-----------------------------------------------+-----------------+\n\n"
     ]
    }
   ],
   "source": [
    "#map_keys will give you all the keys \n",
    "\n",
    "from pyspark.sql.functions import *\n",
    "df1=df.withColumn('keys',map_keys(df.info))\n",
    "df1.show(truncate=False)"
   ]
  },
  {
   "cell_type": "code",
   "execution_count": 0,
   "metadata": {
    "application/vnd.databricks.v1+cell": {
     "cellMetadata": {
      "byteLimit": 2048000,
      "rowLimit": 10000
     },
     "inputWidgets": {},
     "nuid": "bc9c3ee3-e4e7-4f32-a887-9518ca097eed",
     "showTitle": false,
     "tableResultSettingsMap": {},
     "title": ""
    }
   },
   "outputs": [
    {
     "output_type": "stream",
     "name": "stdout",
     "output_type": "stream",
     "text": [
      "+---+--------------------+--------------------+\n| id|                info|              values|\n+---+--------------------+--------------------+\n|  1|{name -> Anuj, ci...|       [Anuj, Patna]|\n|  2|{name -> Saket, c...|[Saket, Los Angel...|\n+---+--------------------+--------------------+\n\n"
     ]
    }
   ],
   "source": [
    "\n",
    "df2=df.withColumn('values',map_values(df.info))\n",
    "df2.show()"
   ]
  },
  {
   "cell_type": "code",
   "execution_count": 0,
   "metadata": {
    "application/vnd.databricks.v1+cell": {
     "cellMetadata": {},
     "inputWidgets": {},
     "nuid": "6d02206d-80d9-425c-a3e0-104cbe196bb8",
     "showTitle": false,
     "tableResultSettingsMap": {},
     "title": ""
    }
   },
   "outputs": [],
   "source": []
  }
 ],
 "metadata": {
  "application/vnd.databricks.v1+notebook": {
   "computePreferences": null,
   "dashboards": [],
   "environmentMetadata": {
    "base_environment": "",
    "environment_version": "1"
   },
   "inputWidgetPreferences": null,
   "language": "python",
   "notebookMetadata": {
    "pythonIndentUnit": 4
   },
   "notebookName": "Map_Type",
   "widgets": {}
  }
 },
 "nbformat": 4,
 "nbformat_minor": 0
}
