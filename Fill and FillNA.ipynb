{
 "cells": [
  {
   "cell_type": "code",
   "execution_count": 0,
   "metadata": {
    "application/vnd.databricks.v1+cell": {
     "cellMetadata": {
      "byteLimit": 2048000,
      "rowLimit": 10000
     },
     "inputWidgets": {},
     "nuid": "849fbe71-47a5-4367-bdde-b1bd4ab4a160",
     "showTitle": false,
     "tableResultSettingsMap": {},
     "title": ""
    }
   },
   "outputs": [
    {
     "output_type": "stream",
     "name": "stdout",
     "output_type": "stream",
     "text": [
      "+---+-----+----------+------+\n| ID| Name|Department|Salary|\n+---+-----+----------+------+\n|  1| Anuj|   Unknown|   200|\n|  2|Saket|        HR|  null|\n|  3|Rahul|        DE|  null|\n+---+-----+----------+------+\n\n"
     ]
    }
   ],
   "source": [
    "data = [\n",
    "    (1, \"Anuj\", None, 200),\n",
    "    (2, \"Saket\", \"HR\", None),\n",
    "    (3, \"Rahul\", \"DE\", None)\n",
    "]\n",
    "\n",
    "columns = [\"ID\", \"Name\", \"Department\", \"Salary\"]\n",
    "df = spark.createDataFrame(data, columns)\n",
    "\n",
    "# Fill NULL values in a single column\n",
    "df_filled = df.fillna(\"Unknown\", subset=[\"Department\"])\n",
    "df_filled.show()\n"
   ]
  },
  {
   "cell_type": "code",
   "execution_count": 0,
   "metadata": {
    "application/vnd.databricks.v1+cell": {
     "cellMetadata": {},
     "inputWidgets": {},
     "nuid": "ebab9834-8452-4027-abe1-b0da748a4893",
     "showTitle": false,
     "tableResultSettingsMap": {},
     "title": ""
    }
   },
   "outputs": [],
   "source": []
  }
 ],
 "metadata": {
  "application/vnd.databricks.v1+notebook": {
   "computePreferences": null,
   "dashboards": [],
   "environmentMetadata": {
    "base_environment": "",
    "client": "1"
   },
   "language": "python",
   "notebookMetadata": {
    "pythonIndentUnit": 4
   },
   "notebookName": "Fill and FillNA",
   "widgets": {}
  }
 },
 "nbformat": 4,
 "nbformat_minor": 0
}
